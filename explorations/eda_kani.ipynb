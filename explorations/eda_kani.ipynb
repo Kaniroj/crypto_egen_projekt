{
 "cells": [
  {
   "cell_type": "code",
   "execution_count": 13,
   "metadata": {},
   "outputs": [
    {
     "data": {
      "text/plain": [
       "{'status': {'timestamp': '2025-02-22T08:23:30.466Z',\n",
       "  'error_code': 0,\n",
       "  'error_message': None,\n",
       "  'elapsed': 30,\n",
       "  'credit_count': 1,\n",
       "  'notice': None},\n",
       " 'data': {'XRP': {'id': 52,\n",
       "   'name': 'XRP',\n",
       "   'symbol': 'XRP',\n",
       "   'slug': 'xrp',\n",
       "   'num_market_pairs': 1541,\n",
       "   'date_added': '2013-08-04T00:00:00.000Z',\n",
       "   'tags': ['medium-of-exchange',\n",
       "    'enterprise-solutions',\n",
       "    'xrp-ecosystem',\n",
       "    'arrington-xrp-capital-portfolio',\n",
       "    'galaxy-digital-portfolio',\n",
       "    'a16z-portfolio',\n",
       "    'pantera-capital-portfolio',\n",
       "    'ftx-bankruptcy-estate',\n",
       "    '2017-2018-alt-season',\n",
       "    'klaytn-ecosystem',\n",
       "    'made-in-america'],\n",
       "   'max_supply': 100000000000,\n",
       "   'circulating_supply': 57887806032,\n",
       "   'total_supply': 99986418374,\n",
       "   'is_active': 1,\n",
       "   'infinite_supply': False,\n",
       "   'platform': None,\n",
       "   'cmc_rank': 3,\n",
       "   'is_fiat': 0,\n",
       "   'self_reported_circulating_supply': None,\n",
       "   'self_reported_market_cap': None,\n",
       "   'tvl_ratio': None,\n",
       "   'last_updated': '2025-02-22T08:21:00.000Z',\n",
       "   'quote': {'USD': {'price': 2.570154931740384,\n",
       "     'volume_24h': 5792567574.41819,\n",
       "     'volume_change_24h': 55.3197,\n",
       "     'percent_change_1h': -0.77895177,\n",
       "     'percent_change_24h': -3.39969841,\n",
       "     'percent_change_7d': -7.85526909,\n",
       "     'percent_change_30d': -17.57158074,\n",
       "     'percent_change_60d': 14.00227538,\n",
       "     'percent_change_90d': 75.38101929,\n",
       "     'market_cap': 148780630160.77554,\n",
       "     'market_cap_dominance': 4.7273,\n",
       "     'fully_diluted_market_cap': 257015493174.04,\n",
       "     'tvl': None,\n",
       "     'last_updated': '2025-02-22T08:21:00.000Z'}}}}}"
      ]
     },
     "execution_count": 13,
     "metadata": {},
     "output_type": "execute_result"
    }
   ],
   "source": [
    "from requests import Request, Session\n",
    "from requests.exceptions import ConnectionError, Timeout, TooManyRedirects\n",
    "import json\n",
    "from dotenv import load_dotenv\n",
    "import os\n",
    "\n",
    "target_symbol = \"XRP\"\n",
    "\n",
    "load_dotenv()\n",
    "API_KEY = os.getenv(\"COINMARKET_API\")\n",
    "\n",
    "url = 'https://pro-api.coinmarketcap.com/v1/cryptocurrency/quotes/latest'\n",
    "parameters = {\n",
    "  \"symbol\" : target_symbol,\n",
    "  \"convert\": \"USD\" # SEK , NOK , EUR , DKK , ISK\n",
    "}\n",
    "headers = {\n",
    "  'Accepts': 'application/json',\n",
    "  'X-CMC_PRO_API_KEY': API_KEY,\n",
    "}\n",
    "\n",
    "session = Session()\n",
    "session.headers.update(headers)\n",
    "\n",
    "try:\n",
    "  response = session.get(url, params=parameters)\n",
    "  data = json.loads(response.text)\n",
    "except (ConnectionError, Timeout, TooManyRedirects) as e:\n",
    "  print(e)\n",
    "\n",
    "data"
   ]
  },
  {
   "cell_type": "code",
   "execution_count": 14,
   "metadata": {},
   "outputs": [
    {
     "data": {
      "text/plain": [
       "dict_keys(['status', 'data'])"
      ]
     },
     "execution_count": 14,
     "metadata": {},
     "output_type": "execute_result"
    }
   ],
   "source": [
    "data.keys()"
   ]
  },
  {
   "cell_type": "code",
   "execution_count": 15,
   "metadata": {},
   "outputs": [
    {
     "data": {
      "text/plain": [
       "{'XRP': {'id': 52,\n",
       "  'name': 'XRP',\n",
       "  'symbol': 'XRP',\n",
       "  'slug': 'xrp',\n",
       "  'num_market_pairs': 1541,\n",
       "  'date_added': '2013-08-04T00:00:00.000Z',\n",
       "  'tags': ['medium-of-exchange',\n",
       "   'enterprise-solutions',\n",
       "   'xrp-ecosystem',\n",
       "   'arrington-xrp-capital-portfolio',\n",
       "   'galaxy-digital-portfolio',\n",
       "   'a16z-portfolio',\n",
       "   'pantera-capital-portfolio',\n",
       "   'ftx-bankruptcy-estate',\n",
       "   '2017-2018-alt-season',\n",
       "   'klaytn-ecosystem',\n",
       "   'made-in-america'],\n",
       "  'max_supply': 100000000000,\n",
       "  'circulating_supply': 57887806032,\n",
       "  'total_supply': 99986418374,\n",
       "  'is_active': 1,\n",
       "  'infinite_supply': False,\n",
       "  'platform': None,\n",
       "  'cmc_rank': 3,\n",
       "  'is_fiat': 0,\n",
       "  'self_reported_circulating_supply': None,\n",
       "  'self_reported_market_cap': None,\n",
       "  'tvl_ratio': None,\n",
       "  'last_updated': '2025-02-22T08:21:00.000Z',\n",
       "  'quote': {'USD': {'price': 2.570154931740384,\n",
       "    'volume_24h': 5792567574.41819,\n",
       "    'volume_change_24h': 55.3197,\n",
       "    'percent_change_1h': -0.77895177,\n",
       "    'percent_change_24h': -3.39969841,\n",
       "    'percent_change_7d': -7.85526909,\n",
       "    'percent_change_30d': -17.57158074,\n",
       "    'percent_change_60d': 14.00227538,\n",
       "    'percent_change_90d': 75.38101929,\n",
       "    'market_cap': 148780630160.77554,\n",
       "    'market_cap_dominance': 4.7273,\n",
       "    'fully_diluted_market_cap': 257015493174.04,\n",
       "    'tvl': None,\n",
       "    'last_updated': '2025-02-22T08:21:00.000Z'}}}}"
      ]
     },
     "execution_count": 15,
     "metadata": {},
     "output_type": "execute_result"
    }
   ],
   "source": [
    "data[\"data\"]"
   ]
  },
  {
   "cell_type": "code",
   "execution_count": 16,
   "metadata": {},
   "outputs": [
    {
     "data": {
      "text/plain": [
       "dict_keys(['id', 'name', 'symbol', 'slug', 'num_market_pairs', 'date_added', 'tags', 'max_supply', 'circulating_supply', 'total_supply', 'is_active', 'infinite_supply', 'platform', 'cmc_rank', 'is_fiat', 'self_reported_circulating_supply', 'self_reported_market_cap', 'tvl_ratio', 'last_updated', 'quote'])"
      ]
     },
     "execution_count": 16,
     "metadata": {},
     "output_type": "execute_result"
    }
   ],
   "source": [
    "XRP_data = data[\"data\"][\"XRP\"]\n",
    "XRP_data.keys()"
   ]
  },
  {
   "cell_type": "code",
   "execution_count": 17,
   "metadata": {},
   "outputs": [
    {
     "data": {
      "text/plain": [
       "{'price': 2.570154931740384,\n",
       " 'volume_24h': 5792567574.41819,\n",
       " 'volume_change_24h': 55.3197,\n",
       " 'percent_change_1h': -0.77895177,\n",
       " 'percent_change_24h': -3.39969841,\n",
       " 'percent_change_7d': -7.85526909,\n",
       " 'percent_change_30d': -17.57158074,\n",
       " 'percent_change_60d': 14.00227538,\n",
       " 'percent_change_90d': 75.38101929,\n",
       " 'market_cap': 148780630160.77554,\n",
       " 'market_cap_dominance': 4.7273,\n",
       " 'fully_diluted_market_cap': 257015493174.04,\n",
       " 'tvl': None,\n",
       " 'last_updated': '2025-02-22T08:21:00.000Z'}"
      ]
     },
     "execution_count": 17,
     "metadata": {},
     "output_type": "execute_result"
    }
   ],
   "source": [
    "quote_values = XRP_data[\"quote\"][\"USD\"]\n",
    "quote_values"
   ]
  },
  {
   "cell_type": "code",
   "execution_count": 18,
   "metadata": {},
   "outputs": [
    {
     "data": {
      "text/plain": [
       "('XRP',\n",
       " '2025-02-22T08:21:00.000Z',\n",
       " 2.570154931740384,\n",
       " -0.77895177,\n",
       " -3.39969841,\n",
       " -7.85526909)"
      ]
     },
     "execution_count": 18,
     "metadata": {},
     "output_type": "execute_result"
    }
   ],
   "source": [
    "XRP_data[\"name\"], XRP_data[\"last_updated\"], quote_values[\"price\"], quote_values[\"percent_change_1h\"], quote_values[\"percent_change_24h\"], quote_values[\"percent_change_7d\"]"
   ]
  },
  {
   "cell_type": "code",
   "execution_count": 19,
   "metadata": {},
   "outputs": [
    {
     "data": {
      "text/plain": [
       "-3.39969841"
      ]
     },
     "execution_count": 19,
     "metadata": {},
     "output_type": "execute_result"
    }
   ],
   "source": [
    "percent_change_1day = quote_values[\"percent_change_24h\"]\n",
    "percent_change_1day"
   ]
  },
  {
   "cell_type": "code",
   "execution_count": 20,
   "metadata": {},
   "outputs": [
    {
     "data": {
      "text/plain": [
       "5792567574.41819"
      ]
     },
     "execution_count": 20,
     "metadata": {},
     "output_type": "execute_result"
    }
   ],
   "source": [
    "volume_24 = quote_values[\"volume_24h\"]\n",
    "volume_24"
   ]
  },
  {
   "cell_type": "code",
   "execution_count": 21,
   "metadata": {},
   "outputs": [
    {
     "data": {
      "text/plain": [
       "{1000000000: 'B', 1000000: 'M', 1000: 'K'}"
      ]
     },
     "execution_count": 21,
     "metadata": {},
     "output_type": "execute_result"
    }
   ],
   "source": [
    "prefixes = {\n",
    "    1000000000: \"B\",\n",
    "    1000000: \"M\",\n",
    "    1000: \"K\",\n",
    "}\n",
    "prefixes"
   ]
  },
  {
   "cell_type": "code",
   "execution_count": 22,
   "metadata": {},
   "outputs": [
    {
     "name": "stdout",
     "output_type": "stream",
     "text": [
      "1.00B\n",
      "1000.00M\n",
      "1000000.00K\n"
     ]
    }
   ],
   "source": [
    "number = 1000000000\n",
    "\n",
    "for limit, prefix in prefixes.items():\n",
    "        if number >= limit:\n",
    "            print(f\"{number / limit:.2f}{prefix}\")"
   ]
  },
  {
   "cell_type": "code",
   "execution_count": 23,
   "metadata": {},
   "outputs": [
    {
     "name": "stdout",
     "output_type": "stream",
     "text": [
      "5793M\n"
     ]
    }
   ],
   "source": [
    "print(f\"{volume_24/1000000:.0f}M\" if volume_24 >= 1000000 else f\"{volume_24:.0f}\")"
   ]
  }
 ],
 "metadata": {
  "kernelspec": {
   "display_name": "venv",
   "language": "python",
   "name": "python3"
  },
  "language_info": {
   "codemirror_mode": {
    "name": "ipython",
    "version": 3
   },
   "file_extension": ".py",
   "mimetype": "text/x-python",
   "name": "python",
   "nbconvert_exporter": "python",
   "pygments_lexer": "ipython3",
   "version": "3.12.9"
  }
 },
 "nbformat": 4,
 "nbformat_minor": 2
}
